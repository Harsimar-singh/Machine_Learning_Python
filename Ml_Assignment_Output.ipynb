{
 "cells": [
  {
   "cell_type": "code",
   "execution_count": 6,
   "metadata": {},
   "outputs": [
    {
     "name": "stdout",
     "output_type": "stream",
     "text": [
      "Enter Your Name\tHarsimar\n",
      "Enter You Age\t21\n",
      "Hello Harsimar, you know you will celebrate your centennial in 2100\n",
      "\n",
      "Enter the Number of times you want to print this message \t4\n",
      "\n",
      "Hello Harsimar, you know you will celebrate your centennial in 2100\n",
      "\n",
      "Hello Harsimar, you know you will celebrate your centennial in 2100\n",
      "\n",
      "Hello Harsimar, you know you will celebrate your centennial in 2100\n",
      "\n",
      "Hello Harsimar, you know you will celebrate your centennial in 2100\n"
     ]
    }
   ],
   "source": [
    "import datetime \n",
    "def printName(): \n",
    "    name = input(\"Enter Your Name\\t\") \n",
    "    age = int(input(\"Enter You Age\\t\")) \n",
    "    age_100 = (datetime.datetime.now().year)+(100-age) \n",
    "    print(\"Hello \"+name+ \", you know you will celebrate your centennial in \"+str(age_100)+\"\\n\") \n",
    " \n",
    "    number = int(input(\"Enter the Number of times you want to print this message \\t\")) \n",
    "    for i in range(number): \n",
    "        print(\"\\nHello \"+name+ \", you know you will celebrate your centennial in \"+ str(age_100)) \n",
    "        \n",
    "printName() "
   ]
  },
  {
   "cell_type": "code",
   "execution_count": 17,
   "metadata": {},
   "outputs": [
    {
     "name": "stdout",
     "output_type": "stream",
     "text": [
      "1\n",
      "1\n",
      "2\n",
      "3\n",
      "New List is [1, 1, 2, 3]\n",
      "New List in one line is[1, 1, 2, 3]\n",
      "Enter the number to find element smaller than the number 3\n",
      "Elements smaller than 3 are [1, 1, 2]\n"
     ]
    }
   ],
   "source": [
    "def printelements(lst):\n",
    "    new_lst = [] \n",
    "    for i in lst: \n",
    "        if i<5: \n",
    "            print(i)\n",
    "            new_lst.append(i) \n",
    "    print(\"New List is {}\".format(new_lst)) \n",
    "\n",
    "    new_lst2 = [x for x in lst if x<5] \n",
    "    print(\"New List in one line is{}\".format(new_lst2)) \n",
    "\n",
    "    number = int(input(\"Enter the number to find element smaller than the number \")) \n",
    "    new_lst3 = [x for x in lst if x<number] \n",
    "    print(\"Elements smaller than {} are {}\".format(number, new_lst3)) \n",
    "\n",
    "a = [1, 1, 2, 3, 5, 8, 13, 21, 34, 55, 89] \n",
    "printelements(a) "
   ]
  },
  {
   "cell_type": "code",
   "execution_count": 19,
   "metadata": {},
   "outputs": [
    {
     "name": "stdout",
     "output_type": "stream",
     "text": [
      "Enter the number of terms to be printed5\n",
      "Fibonacci sequence:\n",
      "0\n",
      "1\n",
      "1\n",
      "2\n",
      "3\n"
     ]
    }
   ],
   "source": [
    "def fib(n):\n",
    "   if n <= 1:\n",
    "       return n\n",
    "   else:\n",
    "       return(fib(n-1) + fib(n-2))\n",
    "\n",
    "nterms = int(input(\"Enter the number of terms to be printed\"))\n",
    "print(\"Fibonacci sequence:\")\n",
    "for i in range(nterms):\n",
    "  print(fib(i))"
   ]
  },
  {
   "cell_type": "code",
   "execution_count": 20,
   "metadata": {},
   "outputs": [
    {
     "name": "stdout",
     "output_type": "stream",
     "text": [
      "Without using Sets\n",
      "1\n",
      "2\n",
      "3\n",
      "5\n",
      "8\n",
      "13\n",
      "21\n",
      "34\n",
      "55\n",
      "89\n",
      "\n",
      "Using Sets\n",
      "1\n",
      "2\n",
      "3\n",
      "34\n",
      "5\n",
      "8\n",
      "13\n",
      "21\n",
      "55\n",
      "89\n"
     ]
    }
   ],
   "source": [
    "def lst_unique(lst):\n",
    "  unique = []\n",
    "  for l in lst:\n",
    "    if l not in unique:\n",
    "      unique.append(l)\n",
    "  for x in unique:\n",
    "    print(x)\n",
    "\n",
    "def using_set(lst):\n",
    "  list_set = set(lst)\n",
    "  unique_list = list(list_set)\n",
    "  for x in unique_list:\n",
    "    print(x)\n",
    "\n",
    "a = [1, 1, 2, 3, 5, 8, 13, 21, 34, 55, 89, 21, 89]\n",
    "print(\"Without using Sets\")\n",
    "lst_unique(a)\n",
    "\n",
    "print(\"\\nUsing Sets\")\n",
    "using_set(a)"
   ]
  },
  {
   "cell_type": "code",
   "execution_count": 21,
   "metadata": {},
   "outputs": [
    {
     "name": "stdout",
     "output_type": "stream",
     "text": [
      "Enter Number you want to check \t11\n",
      "Number is Prime\n"
     ]
    }
   ],
   "source": [
    "def isPrime():\n",
    "  num = int(input(\"Enter Number you want to check \\t\"))\n",
    "  flag = 1\n",
    "  for i in range(2, int(num/2)):\n",
    "    if(num%i == 0):\n",
    "      flag = 0\n",
    "      break\n",
    "  if(flag==0):\n",
    "    print(\"Number is not Prime\")\n",
    "  else:\n",
    "    print(\"Number is Prime\")\n",
    "\n",
    "isPrime()"
   ]
  },
  {
   "cell_type": "code",
   "execution_count": null,
   "metadata": {},
   "outputs": [],
   "source": []
  }
 ],
 "metadata": {
  "kernelspec": {
   "display_name": "Python 3",
   "language": "python",
   "name": "python3"
  },
  "language_info": {
   "codemirror_mode": {
    "name": "ipython",
    "version": 3
   },
   "file_extension": ".py",
   "mimetype": "text/x-python",
   "name": "python",
   "nbconvert_exporter": "python",
   "pygments_lexer": "ipython3",
   "version": "3.8.5"
  }
 },
 "nbformat": 4,
 "nbformat_minor": 4
}
